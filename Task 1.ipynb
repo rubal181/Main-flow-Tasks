{
 "cells": [
  {
   "cell_type": "code",
   "execution_count": null,
   "id": "44e03494",
   "metadata": {},
   "outputs": [],
   "source": [
    "import pandas as pd"
   ]
  },
  {
   "cell_type": "code",
   "execution_count": 2,
   "id": "00aff0f4",
   "metadata": {},
   "outputs": [
    {
     "name": "stdout",
     "output_type": "stream",
     "text": [
      "updated list: [2, 4, 8, 5, 12]\n"
     ]
    }
   ],
   "source": [
    "#creating list \n",
    "my_list=[2,4,6,8,10]\n",
    "\n",
    "#adding an element to the list\n",
    "my_list.append(12)\n",
    "\n",
    "#Removing an element from the list\n",
    "my_list.remove(6)\n",
    "\n",
    "#modifying an element in the list\n",
    "my_list[3]=5\n",
    "\n",
    "#Output\n",
    "print(\"updated list:\",my_list)"
   ]
  },
  {
   "cell_type": "code",
   "execution_count": 4,
   "id": "8ebfd5d4",
   "metadata": {},
   "outputs": [
    {
     "name": "stdout",
     "output_type": "stream",
     "text": [
      "{'flower': 'Lily', 'color': 'purple'}\n",
      "Lily\n",
      "updated {'flower': 'Rose', 'quantity': 4}\n"
     ]
    }
   ],
   "source": [
    "#Creating dictionary\n",
    "my_dictionary={\"flower\":\"Lily\",\"color\":\"purple\"}\n",
    "print(my_dictionary)\n",
    "\n",
    "#printing value by key\n",
    "print(my_dictionary[\"flower\"])\n",
    "\n",
    "#adding keypairs\n",
    "my_dictionary[\"quantity\"]=4\n",
    "\n",
    "#Deleting keypairs\n",
    "del my_dictionary[\"color\"]\n",
    "\n",
    "#modifying dictionary\n",
    "my_dictionary[\"flower\"]=\"Rose\"\n",
    "print(\"updated\",my_dictionary)"
   ]
  },
  {
   "cell_type": "code",
   "execution_count": 12,
   "id": "7cd041fe",
   "metadata": {},
   "outputs": [
    {
     "name": "stdout",
     "output_type": "stream",
     "text": [
      "(1, 2)\n",
      "(1, 2, 3, 'bird')\n",
      "(1, 2, 3, 'a', 'b', 'c')\n"
     ]
    }
   ],
   "source": [
    "# creating tuple\n",
    "tup = (1,2,3)\n",
    "\n",
    "# creating list as tuple is immutable\n",
    "lst = list(tup)\n",
    "lst.append('bird')\n",
    "\n",
    "# converting list to tuple again\n",
    "tup = tuple(lst)\n",
    "\n",
    "# printing sliced tuple\n",
    "print(tup[0:2])\n",
    "#printing complete tuple\n",
    "print(tup)\n",
    "\n",
    "# adding two tuples\n",
    "tup1 = (1,2,3)\n",
    "tup2 = ('a','b','c')\n",
    "added_tup = tup1+tup2\n",
    "# printing combined tuple\n",
    "print(added_tup)\n"
   ]
  },
  {
   "cell_type": "code",
   "execution_count": null,
   "id": "6429dcd3",
   "metadata": {},
   "outputs": [],
   "source": []
  },
  {
   "cell_type": "code",
   "execution_count": null,
   "id": "a654bc32",
   "metadata": {},
   "outputs": [],
   "source": []
  },
  {
   "cell_type": "code",
   "execution_count": null,
   "id": "2a2a91a3",
   "metadata": {},
   "outputs": [],
   "source": []
  }
 ],
 "metadata": {
  "kernelspec": {
   "display_name": "Python 3 (ipykernel)",
   "language": "python",
   "name": "python3"
  },
  "language_info": {
   "codemirror_mode": {
    "name": "ipython",
    "version": 3
   },
   "file_extension": ".py",
   "mimetype": "text/x-python",
   "name": "python",
   "nbconvert_exporter": "python",
   "pygments_lexer": "ipython3",
   "version": "3.11.5"
  }
 },
 "nbformat": 4,
 "nbformat_minor": 5
}
